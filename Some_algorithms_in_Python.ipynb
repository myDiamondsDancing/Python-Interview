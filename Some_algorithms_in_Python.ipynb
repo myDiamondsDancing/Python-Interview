{
 "cells": [
  {
   "cell_type": "code",
   "execution_count": 1,
   "metadata": {},
   "outputs": [],
   "source": [
    "import random"
   ]
  },
  {
   "cell_type": "code",
   "execution_count": 2,
   "metadata": {},
   "outputs": [],
   "source": [
    "test_data = {\n",
    "    (10, 6) : 2,\n",
    "    (24, 5) : 1,\n",
    "    (27, 9) : 9,\n",
    "    (105, 30) : 15,\n",
    "    (240,44) : 4\n",
    "}"
   ]
  },
  {
   "cell_type": "code",
   "execution_count": 3,
   "metadata": {},
   "outputs": [],
   "source": [
    "def Euclidean_algorithm(a:int, b:int) -> int:\n",
    "    while (a != 0) and (b != 0):\n",
    "        if a < b:\n",
    "            a, b = b, a        \n",
    "        a %= b\n",
    "        \n",
    "    return a + b"
   ]
  },
  {
   "cell_type": "code",
   "execution_count": 4,
   "metadata": {},
   "outputs": [
    {
     "name": "stdout",
     "output_type": "stream",
     "text": [
      "НОД(105, 30) - 15 : True\n",
      "НОД(27, 9) - 9 : True\n",
      "НОД(10, 6) - 2 : True\n",
      "НОД(24, 5) - 1 : True\n",
      "НОД(240, 44) - 4 : True\n"
     ]
    }
   ],
   "source": [
    "for pair in test_data:\n",
    "    a, b = pair\n",
    "    answer = Euclidean_algorithm(a, b)\n",
    "    print('НОД({0}, {1}) - {2} : {3}'.format(pair[0],\n",
    "                                             pair[1],\n",
    "                                             answer,\n",
    "                                             answer == test_data[pair]))"
   ]
  },
  {
   "cell_type": "code",
   "execution_count": 5,
   "metadata": {},
   "outputs": [],
   "source": [
    "def Euclidean_algorithm_v2(a:int, b:int) -> int:\n",
    "    while (a != 0) and (b != 0):\n",
    "        if a < b:\n",
    "            b %= a       \n",
    "        else:\n",
    "            a %= b\n",
    "        \n",
    "    return a + b   "
   ]
  },
  {
   "cell_type": "code",
   "execution_count": 6,
   "metadata": {},
   "outputs": [
    {
     "name": "stdout",
     "output_type": "stream",
     "text": [
      "НОД(105, 30) - 15 : True\n",
      "НОД(27, 9) - 9 : True\n",
      "НОД(10, 6) - 2 : True\n",
      "НОД(24, 5) - 1 : True\n",
      "НОД(240, 44) - 4 : True\n"
     ]
    }
   ],
   "source": [
    "for pair in test_data:\n",
    "    a, b = pair\n",
    "    answer = Euclidean_algorithm_v2(a, b)\n",
    "    print('НОД({0}, {1}) - {2} : {3}'.format(pair[0],\n",
    "                                             pair[1],\n",
    "                                             answer,\n",
    "                                             answer == test_data[pair]))"
   ]
  },
  {
   "cell_type": "code",
   "execution_count": 7,
   "metadata": {},
   "outputs": [],
   "source": [
    "test_data = {\n",
    "    10 : [2, 3, 5, 7],\n",
    "    28 : [2, 3, 5, 7, 11, 13, 17, 19, 23],\n",
    "    47 : [2, 3, 5, 7, 11, 13, 17, 19, 23, 29, 31, 37, 41, 43, 47]\n",
    "}"
   ]
  },
  {
   "cell_type": "code",
   "execution_count": 8,
   "metadata": {},
   "outputs": [],
   "source": [
    "def Eratosthenes_sieve(N : int) -> list:\n",
    "    mask = [1] * (N - 1)\n",
    "    numbers = list()\n",
    "    \n",
    "    for i in range(2, int(N / 2)):\n",
    "        t = 2 * i\n",
    "        \n",
    "        while t <= N:\n",
    "            mask[t - 2] = 0\n",
    "            t += i    \n",
    "\n",
    "    for i in range(len(mask)):\n",
    "        if  mask[i] != 0:\n",
    "            numbers.append(i + 2)\n",
    "            \n",
    "    return numbers   "
   ]
  },
  {
   "cell_type": "code",
   "execution_count": 9,
   "metadata": {},
   "outputs": [
    {
     "name": "stdout",
     "output_type": "stream",
     "text": [
      "НОД(240, 44) - [2, 3, 5, 7] : True\n",
      "НОД(240, 44) - [2, 3, 5, 7, 11, 13, 17, 19, 23] : True\n",
      "НОД(240, 44) - [2, 3, 5, 7, 11, 13, 17, 19, 23, 29, 31, 37, 41, 43, 47] : True\n"
     ]
    }
   ],
   "source": [
    "for number in test_data:\n",
    "    answer = Eratosthenes_sieve(number)\n",
    "    print('НОД({0}, {1}) - {2} : {3}'.format(pair[0],\n",
    "                                             pair[1],\n",
    "                                             answer,\n",
    "                                             answer == test_data[number]))"
   ]
  },
  {
   "cell_type": "code",
   "execution_count": 10,
   "metadata": {},
   "outputs": [],
   "source": [
    "def Eratosthenes_sieve_v2(N : int) -> list:\n",
    "    numbers = list(range(2, N+1))\n",
    "    \n",
    "    for i in range(2, int(N / 2)):\n",
    "        t = 2 * i\n",
    "        \n",
    "        while t <= N:\n",
    "            numbers[t - 2] = 0\n",
    "            t += i    \n",
    "\n",
    "    numbers = list(set(numbers))\n",
    "    numbers.remove(0)\n",
    "    numbers.sort()\n",
    "            \n",
    "    return numbers   "
   ]
  },
  {
   "cell_type": "code",
   "execution_count": 11,
   "metadata": {},
   "outputs": [
    {
     "name": "stdout",
     "output_type": "stream",
     "text": [
      "НОД(240, 44) - [2, 3, 5, 7] : True\n",
      "НОД(240, 44) - [2, 3, 5, 7, 11, 13, 17, 19, 23] : True\n",
      "НОД(240, 44) - [2, 3, 5, 7, 11, 13, 17, 19, 23, 29, 31, 37, 41, 43, 47] : True\n"
     ]
    }
   ],
   "source": [
    "for number in test_data:\n",
    "    answer = Eratosthenes_sieve_v2(number)\n",
    "    print('НОД({0}, {1}) - {2} : {3}'.format(pair[0],\n",
    "                                             pair[1],\n",
    "                                             answer,\n",
    "                                             answer == test_data[number]))"
   ]
  },
  {
   "cell_type": "code",
   "execution_count": 12,
   "metadata": {},
   "outputs": [],
   "source": [
    "def binary_search(N:int, arr:list) -> int:\n",
    "    if len(arr) == 0:\n",
    "        return 0\n",
    "    \n",
    "    left = 0; right = len(arr);\n",
    "    \n",
    "    while left < right:\n",
    "        middle = (left + right) // 2\n",
    "        \n",
    "        if arr[middle] < N:\n",
    "            left = middle + 1\n",
    "        else:\n",
    "            right = middle\n",
    "            \n",
    "    return left        "
   ]
  },
  {
   "cell_type": "code",
   "execution_count": 13,
   "metadata": {},
   "outputs": [],
   "source": [
    "def generate_data(N, l):\n",
    "    start = 20; end = 50;\n",
    "    for i in range(N):\n",
    "        arr = [random.randint(start, end) \n",
    "               for i in range(l)]\n",
    "        k = random.randint(start, end)\n",
    "        start = end; end += 20;\n",
    "        yield sorted(arr), k\n",
    "        \n",
    "test_data = generate_data(5, 10)"
   ]
  },
  {
   "cell_type": "code",
   "execution_count": 14,
   "metadata": {},
   "outputs": [
    {
     "name": "stdout",
     "output_type": "stream",
     "text": [
      "Answer for (39, [22, 28, 36, 37, 37, 38, 39, 43, 44, 47]) is 6\n",
      "Answer for (68, [55, 55, 59, 60, 62, 62, 63, 63, 67, 70]) is 9\n",
      "Answer for (88, [71, 72, 73, 80, 82, 83, 85, 87, 88, 89]) is 8\n",
      "Answer for (108, [90, 91, 94, 99, 102, 103, 106, 108, 110, 110]) is 7\n",
      "Answer for (120, [112, 112, 116, 116, 118, 119, 120, 120, 124, 125]) is 6\n"
     ]
    }
   ],
   "source": [
    "for pair in test_data:\n",
    "    arr, N = pair\n",
    "    print('Answer for ({0}, {1}) is {2}'.format(N,\n",
    "                                                arr,\n",
    "                                                binary_search(N, arr)))"
   ]
  }
 ],
 "metadata": {
  "kernelspec": {
   "display_name": "Python 3",
   "language": "python",
   "name": "python3"
  },
  "language_info": {
   "codemirror_mode": {
    "name": "ipython",
    "version": 3
   },
   "file_extension": ".py",
   "mimetype": "text/x-python",
   "name": "python",
   "nbconvert_exporter": "python",
   "pygments_lexer": "ipython3",
   "version": "3.5.2"
  }
 },
 "nbformat": 4,
 "nbformat_minor": 2
}
