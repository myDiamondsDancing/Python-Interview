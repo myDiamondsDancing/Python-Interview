{
 "cells": [
  {
   "cell_type": "code",
   "execution_count": 25,
   "metadata": {},
   "outputs": [
    {
     "data": {
      "text/plain": [
       "<generator object generateNumbers at 0x03F53FC0>"
      ]
     },
     "execution_count": 25,
     "metadata": {},
     "output_type": "execute_result"
    }
   ],
   "source": [
    "def generateNumbers(N : int):\n",
    "    i = 0\n",
    "    while i < N:\n",
    "        i += 1\n",
    "        yield i\n",
    "        \n",
    "myGen = generateNumbers(10)\n",
    "myGen"
   ]
  },
  {
   "cell_type": "code",
   "execution_count": 26,
   "metadata": {},
   "outputs": [],
   "source": [
    "def MersennesNumbers(N : float) -> list:\n",
    "    i = 1; n = 1 \n",
    "    answer = list()\n",
    "    \n",
    "    while n < N:\n",
    "        answer.append(n)\n",
    "        i += 1; n = 2 ** i - 1\n",
    "        \n",
    "    return  answer"
   ]
  },
  {
   "cell_type": "code",
   "execution_count": 27,
   "metadata": {},
   "outputs": [],
   "source": [
    "def geometricProgression(start=1, n=10, q=1):\n",
    "    answer = list()\n",
    "    value = start; \n",
    "    \n",
    "    for i in range(n):\n",
    "        yield value\n",
    "        \n",
    "        value *= q;"
   ]
  },
  {
   "cell_type": "code",
   "execution_count": 28,
   "metadata": {},
   "outputs": [
    {
     "name": "stdout",
     "output_type": "stream",
     "text": [
      "1\n",
      "3\n",
      "9\n",
      "27\n",
      "81\n"
     ]
    }
   ],
   "source": [
    "myGen = geometricProgression(1, 5, 3)\n",
    "for i in myGen:\n",
    "    print(i)"
   ]
  },
  {
   "cell_type": "code",
   "execution_count": 29,
   "metadata": {},
   "outputs": [
    {
     "name": "stdout",
     "output_type": "stream",
     "text": [
      "Mersenne's numbers less than 10 : [1, 3, 7]\n",
      "Mersenne's numbers less than 30 : [1, 3, 7, 15]\n",
      "Mersenne's numbers less than 90 : [1, 3, 7, 15, 31, 63]\n",
      "Mersenne's numbers less than 270 : [1, 3, 7, 15, 31, 63, 127, 255]\n"
     ]
    }
   ],
   "source": [
    "test = geometricProgression(10, 4, 3)\n",
    "\n",
    "for n in test:\n",
    "    print('Mersenne\\'s numbers less than {0} : {1}'.format(n,\n",
    "                                                           MersennesNumbers(n)))"
   ]
  },
  {
   "cell_type": "code",
   "execution_count": 30,
   "metadata": {},
   "outputs": [],
   "source": [
    "from random import randint\n",
    "\n",
    "def generateList(N=5, min_lenght=5, max_lenght=10):\n",
    "    for i in range(N+1):\n",
    "        lenght = randint(max_lenght, max_lenght)\n",
    "        random_list = [0] * lenght\n",
    "        \n",
    "        for j in range(lenght):\n",
    "            random_list[j] = chr(randint(50, 100))\n",
    "            \n",
    "        yield random_list    "
   ]
  },
  {
   "cell_type": "code",
   "execution_count": 31,
   "metadata": {},
   "outputs": [
    {
     "name": "stdout",
     "output_type": "stream",
     "text": [
      "['M', 'Q', 'O', 'a', 'W', 'R', 'M', 'D', '9', '6', 'b', '4']\n",
      "['K', 'Q', 'R', ';', 'a', '?', 'Y', 'T', '=', 'X', 'I', ']']\n",
      "['C', 'R', 'd', 'S', '2', 'b', 'Z', 'C', 'D', '`', 'I', '6']\n",
      "['Z', 'Y', 'a', 'a', 'G', '\\\\', '<', 'E', 'M', '[', 'P', 'C']\n",
      "['Q', ';', 'H', '2', 'T', 'H', '8', 'D', 'U', 'X', '`', 'c']\n",
      "['8', '@', '=', 'M', 'L', '\\\\', '[', ']', 'L', 'Y', 'U', 'S']\n",
      "['Y', 'K', 'Q', 'Y', '4', ':', 'N', ']', 'c', '4', 'R', 'P']\n",
      "['V', 'J', 'M', 'B', 'E', 'U', 'M', 'P', 'G', 'O', 'W', 'L']\n"
     ]
    }
   ],
   "source": [
    "my_gen = generateList(7, 3, 12)\n",
    "for i in my_gen:\n",
    "    print(i)"
   ]
  },
  {
   "cell_type": "code",
   "execution_count": 32,
   "metadata": {},
   "outputs": [],
   "source": [
    "def reverse_this(coll):\n",
    "    i = 0\n",
    "    j = len(coll) - 1\n",
    "    \n",
    "    while i < j:\n",
    "        coll[i], coll[j] = coll[j], coll[i]\n",
    "        \n",
    "        i += 1; j -= 1"
   ]
  },
  {
   "cell_type": "code",
   "execution_count": 33,
   "metadata": {},
   "outputs": [
    {
     "data": {
      "text/plain": [
       "([5, 4, 3, 2, 1], [5, 4, 9, 8, 7])"
      ]
     },
     "execution_count": 33,
     "metadata": {},
     "output_type": "execute_result"
    }
   ],
   "source": [
    "test_1 = [1, 2, 3, 4, 5]\n",
    "test_2 = [7, 8, 9, 4, 5]\n",
    "\n",
    "reverse_this(test_1)\n",
    "reverse_this(test_2)\n",
    "\n",
    "test_1, test_2"
   ]
  },
  {
   "cell_type": "code",
   "execution_count": 34,
   "metadata": {},
   "outputs": [
    {
     "name": "stdout",
     "output_type": "stream",
     "text": [
      "Reversed version of ['X', '7', '2', '^', '=', 'S', 'c'] is ['c', 'S', '=', '^', '2', '7', 'X']\n",
      "Reversed version of ['L', '9', 'I', '=', 'B', 'H', '^'] is ['^', 'H', 'B', '=', 'I', '9', 'L']\n",
      "Reversed version of ['O', '3', 'A', '7', 'S', 'S', '9'] is ['9', 'S', 'S', '7', 'A', '3', 'O']\n",
      "Reversed version of ['I', 'A', '4', '_', 'P', ':', '9'] is ['9', ':', 'P', '_', '4', 'A', 'I']\n",
      "Reversed version of ['D', 'C', '>', 'b', 'X', '9', 'K'] is ['K', '9', 'X', 'b', '>', 'C', 'D']\n",
      "Reversed version of ['5', 'E', 'I', '@', 'L', 'O', 'B'] is ['B', 'O', 'L', '@', 'I', 'E', '5']\n"
     ]
    }
   ],
   "source": [
    "from copy import copy\n",
    "\n",
    "test_data = generateList(N=5, min_lenght=5, max_lenght=7)\n",
    "\n",
    "for l in test_data:\n",
    "    lc = copy(l)\n",
    "    reverse_this(l)\n",
    "    print('Reversed version of {0} is {1}'.format(lc,\n",
    "                                                  l))"
   ]
  },
  {
   "cell_type": "code",
   "execution_count": 35,
   "metadata": {},
   "outputs": [],
   "source": [
    "def generate_relu(args):\n",
    "    for arg in args:\n",
    "        if arg > 0:\n",
    "            yield arg\n",
    "        else:\n",
    "            yield 0"
   ]
  },
  {
   "cell_type": "code",
   "execution_count": 36,
   "metadata": {},
   "outputs": [
    {
     "name": "stdout",
     "output_type": "stream",
     "text": [
      "1\n",
      "0\n",
      "0\n",
      "2\n",
      "4\n",
      "0\n",
      "13\n"
     ]
    }
   ],
   "source": [
    "test = [1, -1, 0, 2, 4, -12, 13]\n",
    "\n",
    "my_gen = generate_relu(test)\n",
    "\n",
    "for i in my_gen:\n",
    "    print(i)"
   ]
  },
  {
   "cell_type": "code",
   "execution_count": 37,
   "metadata": {},
   "outputs": [],
   "source": [
    "def generate_list(N, k):\n",
    "    return [i for i in range(1, N + 1) if i % k == 0]\n",
    "\n",
    "def generator(N, k):\n",
    "    for i in range(1, N + 1):\n",
    "        if i % k == 0:\n",
    "            yield i\n",
    "                    "
   ]
  },
  {
   "cell_type": "code",
   "execution_count": 38,
   "metadata": {},
   "outputs": [
    {
     "name": "stdout",
     "output_type": "stream",
     "text": [
      "30.4 ms ± 3.28 ms per loop (mean ± std. dev. of 7 runs, 10 loops each)\n"
     ]
    }
   ],
   "source": [
    "%timeit generate_list(10**5, 93)"
   ]
  },
  {
   "cell_type": "code",
   "execution_count": 39,
   "metadata": {},
   "outputs": [
    {
     "name": "stdout",
     "output_type": "stream",
     "text": [
      "647 ns ± 7.31 ns per loop (mean ± std. dev. of 7 runs, 1000000 loops each)\n"
     ]
    }
   ],
   "source": [
    "%timeit generator(10**5, 93)"
   ]
  },
  {
   "cell_type": "code",
   "execution_count": null,
   "metadata": {},
   "outputs": [],
   "source": []
  }
 ],
 "metadata": {
  "kernelspec": {
   "display_name": "Python 3",
   "language": "python",
   "name": "python3"
  },
  "language_info": {
   "codemirror_mode": {
    "name": "ipython",
    "version": 3
   },
   "file_extension": ".py",
   "mimetype": "text/x-python",
   "name": "python",
   "nbconvert_exporter": "python",
   "pygments_lexer": "ipython3",
   "version": "3.5.2"
  }
 },
 "nbformat": 4,
 "nbformat_minor": 2
}
