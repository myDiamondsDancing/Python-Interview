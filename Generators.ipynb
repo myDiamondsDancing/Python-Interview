{
 "cells": [
  {
   "cell_type": "markdown",
   "metadata": {},
   "source": [
    "# Генераторы в Python"
   ]
  },
  {
   "cell_type": "markdown",
   "metadata": {},
   "source": [
    "Генератор - итерируемый объект, возвращающий значения на ходу. Создается с помощью ключевого слова yield."
   ]
  },
  {
   "cell_type": "markdown",
   "metadata": {},
   "source": [
    "Пример простого генератора всех натуральных чисел (целых и больше нуля), которые меньше или равны заданному значению N: "
   ]
  },
  {
   "cell_type": "code",
   "execution_count": 1,
   "metadata": {},
   "outputs": [
    {
     "data": {
      "text/plain": [
       "<generator object generateNumbers at 0x03F354E0>"
      ]
     },
     "execution_count": 1,
     "metadata": {},
     "output_type": "execute_result"
    }
   ],
   "source": [
    "def generateNumbers(N : int):\n",
    "    i = 0\n",
    "    while i < N:\n",
    "        i += 1\n",
    "        yield i\n",
    "        \n",
    "myGen = generateNumbers(10)\n",
    "myGen"
   ]
  },
  {
   "cell_type": "markdown",
   "metadata": {},
   "source": [
    "Как это работает? `yield` многократно возвращает нужные значения, не прерывая работу функции и превращая её в генератор."
   ]
  },
  {
   "cell_type": "markdown",
   "metadata": {},
   "source": [
    "Как мы видим, генератор оформляется как функция, только возвращает значения с помощью `yield` и принадлежит к классу `generator`."
   ]
  },
  {
   "cell_type": "markdown",
   "metadata": {},
   "source": [
    "Мы можем настраивать генераторы, как нам удобно. Здесь будет показано два примера использования генераторов для тестирования \n",
    "алгоритмов нахождения чисел Мерсенна и `reverse` массива."
   ]
  },
  {
   "cell_type": "markdown",
   "metadata": {},
   "source": [
    "Для начала: [числа Мерсенна](https://ru.wikipedia.org/wiki/%D0%A7%D0%B8%D1%81%D0%BB%D0%BE_%D0%9C%D0%B5%D1%80%D1%81%D0%B5%D0%BD%D0%BD%D0%B0, \"Числа Мерсенна\") имеют вид `2**n - 1`, где n - любое натуральное число."
   ]
  },
  {
   "cell_type": "markdown",
   "metadata": {},
   "source": [
    "Напишем алгоритм нахождения чисел Мерсенна от 1 до N. Суть проста - с каждым разом будем просто увеличивать\n",
    "счетчик показателя степени на 1. Полученные значения будем возвращать в качестве списка."
   ]
  },
  {
   "cell_type": "code",
   "execution_count": 2,
   "metadata": {},
   "outputs": [],
   "source": [
    "def MersennesNumbers(N : float) -> list:\n",
    "    i = 1; n = 1 \n",
    "    answer = list()\n",
    "    \n",
    "    while n < N:\n",
    "        answer.append(n)\n",
    "        i += 1; n = 2 ** i - 1\n",
    "        \n",
    "    return  answer"
   ]
  },
  {
   "cell_type": "markdown",
   "metadata": {},
   "source": [
    "**Примечание**. Согласно РЕР8 имена функций используют змеиную нотацию и используют строчные буквы. Однако здесь \n",
    "Mersenne используется как фамилия, потому я решил оставить его с большой буквы."
   ]
  },
  {
   "cell_type": "markdown",
   "metadata": {},
   "source": [
    "Теперь хотелось бы проверить работу нашего алгоритма. Для этого сгенерируем несколько значений. \n",
    "В качестве основы генератора у нас будет геометрическая прогрессия. Сам генератор будет принимать значения:\n",
    "\n",
    "* start : float - первый член геометрической прогрессии\n",
    "* n : int - кол-во членов геометрической прогрессии, которые нам необходимы\n",
    "* q : знаменатель прогрессии(думаю все знают, зачем он нужен)"
   ]
  },
  {
   "cell_type": "code",
   "execution_count": 3,
   "metadata": {},
   "outputs": [],
   "source": [
    "def geometricProgression(start=1, n=10, q=1):\n",
    "    answer = list()\n",
    "    value = start; \n",
    "    \n",
    "    for i in range(n):\n",
    "        yield value\n",
    "        \n",
    "        value *= q;"
   ]
  },
  {
   "cell_type": "markdown",
   "metadata": {},
   "source": [
    "Тестируем наш генератор:"
   ]
  },
  {
   "cell_type": "code",
   "execution_count": 4,
   "metadata": {},
   "outputs": [
    {
     "name": "stdout",
     "output_type": "stream",
     "text": [
      "1\n",
      "3\n",
      "9\n",
      "27\n",
      "81\n"
     ]
    }
   ],
   "source": [
    "myGen = geometricProgression(1, 5, 3)\n",
    "for i in myGen:\n",
    "    print(i)"
   ]
  },
  {
   "cell_type": "markdown",
   "metadata": {},
   "source": [
    "Как можем заметить, ключевое слово `yield` не останавливает работу фрагмента кода,следующим за ним. Использовать `yield`\n",
    "нужно в цикле, ибо при возвращении одного значения мы могли бы просто воспользоваться `return`."
   ]
  },
  {
   "cell_type": "markdown",
   "metadata": {},
   "source": [
    "Прекрасно. Видим, что генератор работает корректно. Теперь создадим набор значений для проверки алгоритма нахождения чисел Мерсенна."
   ]
  },
  {
   "cell_type": "code",
   "execution_count": 5,
   "metadata": {},
   "outputs": [
    {
     "name": "stdout",
     "output_type": "stream",
     "text": [
      "Mersenne's numbers less than 10 : [1, 3, 7]\n",
      "Mersenne's numbers less than 30 : [1, 3, 7, 15]\n",
      "Mersenne's numbers less than 90 : [1, 3, 7, 15, 31, 63]\n",
      "Mersenne's numbers less than 270 : [1, 3, 7, 15, 31, 63, 127, 255]\n"
     ]
    }
   ],
   "source": [
    "test = geometricProgression(10, 4, 3)\n",
    "\n",
    "for n in test:\n",
    "    print('Mersenne\\'s numbers less than {0} : {1}'.format(n,\n",
    "                                                           MersennesNumbers(n)))"
   ]
  },
  {
   "cell_type": "markdown",
   "metadata": {},
   "source": [
    "Результат вышел ожидаемо верным. Однако каждый раз вычислять степень - дело трудное, потому подкидываю вам пищу для размышлений : самостоятельно улучшить алгоритм, избежав повторного вычисления степени двойки."
   ]
  },
  {
   "cell_type": "markdown",
   "metadata": {},
   "source": [
    "Reverse массива\n",
    "==============="
   ]
  },
  {
   "cell_type": "markdown",
   "metadata": {},
   "source": [
    "`yield` может генерировать любые объекты, потому для следующего алгоритмы нам понадобится генератор списков. \n",
    "Для простоты будем использовать массивы строк, которые будем генерировать с помощью модуля `random`."
   ]
  },
  {
   "cell_type": "markdown",
   "metadata": {},
   "source": [
    "**Почему не list.reverse()?** Мы решаем алгоритмическую задачу, потому в наших интересах по минимуму использовать особенности\n",
    "используемого языка. Притом, наш алгоритм будет работать для любой изменяемой итерируемой последовательности, в которой разрешен доступ по индексу."
   ]
  },
  {
   "cell_type": "code",
   "execution_count": 6,
   "metadata": {},
   "outputs": [],
   "source": [
    "from random import randint\n",
    "\n",
    "def generateList(N=5, min_lenght=5, max_lenght=10):\n",
    "    for i in range(N):\n",
    "        lenght = randint(max_lenght, max_lenght)\n",
    "        random_list = [0] * lenght\n",
    "        \n",
    "        for j in range(lenght):\n",
    "            random_list[j] = chr(randint(50, 100))\n",
    "            \n",
    "        yield random_list    "
   ]
  },
  {
   "cell_type": "code",
   "execution_count": 7,
   "metadata": {},
   "outputs": [
    {
     "name": "stdout",
     "output_type": "stream",
     "text": [
      "['9', 'b', '=', 'B', 'P', 'C', '>', 'R', '2', 'd', 'D', 'K']\n",
      "['c', '@', 'T', 'H', 'N', 'D', '?', 'a', 'H', 'b', 'R', 'S']\n",
      "['F', '4', '_', '_', '7', 'I', '`', 'G', '=', '[', 'P', '8']\n",
      "['_', 'S', 'J', 'G', 'R', 'c', '=', 'Z', '=', '?', 'W', ']']\n",
      "['M', '9', 'b', 'H', '?', 'P', 'b', 'Y', '@', '\\\\', 'Q', '3']\n",
      "['M', '[', '9', 'S', '6', ';', '>', 'Q', 'B', ';', 'S', 'S']\n",
      "['a', 'K', '5', '7', 'a', 'S', '9', 'R', 'W', '@', 'a', 'T']\n"
     ]
    }
   ],
   "source": [
    "my_gen = generateList(7, 3, 12)\n",
    "for i in my_gen:\n",
    "    print(i)"
   ]
  },
  {
   "cell_type": "markdown",
   "metadata": {},
   "source": [
    "**Как работает генератор?**\n",
    "Генератор принимает такие значения, как:\n",
    "- N : int - кол-во списков для генерации\n",
    "- min_lenght : int - минимальная длина сгенерированного списка\n",
    "- max_lenght : int - максимальная длина сгенерированного списка(min_lenght < max_lenght)\n",
    "\n",
    "**Что мы делаем?**\n",
    "- С помощью функции `randint` модуля `random` выбираем случайное целочисленное значение с нужного нам диапазона.\n",
    "- Создаём список нужной длины(в нашем случае он изначально заполнен нулями, на исходный результат это не повлияет)\n",
    "- Заполняем список символами, представленных случайными целочисленными значениями на промежутке [50, 100]"
   ]
  },
  {
   "cell_type": "markdown",
   "metadata": {},
   "source": [
    "Сам алгоритм \"переворота\" массива довольно прост:"
   ]
  },
  {
   "cell_type": "code",
   "execution_count": 8,
   "metadata": {},
   "outputs": [],
   "source": [
    "def reverse_this(coll):\n",
    "    i = 0\n",
    "    j = len(coll) - 1\n",
    "    \n",
    "    while i < j:\n",
    "        coll[i], coll[j] = coll[j], coll[i]\n",
    "        \n",
    "        i += 1; j -= 1"
   ]
  },
  {
   "cell_type": "markdown",
   "metadata": {},
   "source": [
    "**Примечание.** Наш алгоритм изменяет саму последовательность, не создавая новую последовательность, потому, по соглашению, ничего не возвращает(в плане `Python` он возвращает `None`)."
   ]
  },
  {
   "cell_type": "markdown",
   "metadata": {},
   "source": [
    "Немного протестируем наш алгоритм на двух списках:"
   ]
  },
  {
   "cell_type": "code",
   "execution_count": 9,
   "metadata": {},
   "outputs": [
    {
     "data": {
      "text/plain": [
       "([5, 4, 3, 2, 1], [5, 4, 9, 8, 7])"
      ]
     },
     "execution_count": 9,
     "metadata": {},
     "output_type": "execute_result"
    }
   ],
   "source": [
    "test_1 = [1, 2, 3, 4, 5]\n",
    "test_2 = [7, 8, 9, 4, 5]\n",
    "\n",
    "reverse_this(test_1)\n",
    "reverse_this(test_2)\n",
    "\n",
    "test_1, test_2"
   ]
  },
  {
   "cell_type": "markdown",
   "metadata": {},
   "source": [
    "Алгоритм на двух тестовых списках работает как надо, потому протестируем его на списках, которые мы сгенерируем: "
   ]
  },
  {
   "cell_type": "code",
   "execution_count": 10,
   "metadata": {},
   "outputs": [
    {
     "name": "stdout",
     "output_type": "stream",
     "text": [
      "Reversed version of ['`', 'L', 'G', 'A', '6', '7', 'K'] is ['K', '7', '6', 'A', 'G', 'L', '`']\n",
      "Reversed version of ['^', 'D', 'O', 'U', '3', 'R', 'b'] is ['b', 'R', '3', 'U', 'O', 'D', '^']\n",
      "Reversed version of ['>', '3', 'M', 'V', 'd', 'B', 'E'] is ['E', 'B', 'd', 'V', 'M', '3', '>']\n",
      "Reversed version of ['=', 'W', 'N', '6', 'I', '_', 'a'] is ['a', '_', 'I', '6', 'N', 'W', '=']\n",
      "Reversed version of ['B', '_', 'I', 'a', 'U', 'L', 'L'] is ['L', 'L', 'U', 'a', 'I', '_', 'B']\n"
     ]
    }
   ],
   "source": [
    "from copy import copy\n",
    "\n",
    "test_data = generateList(N=5, min_lenght=5, max_lenght=7)\n",
    "\n",
    "for l in test_data:\n",
    "    lc = copy(l)\n",
    "    reverse_this(l)\n",
    "    print('Reversed version of {0} is {1}'.format(lc,\n",
    "                                                  l))"
   ]
  },
  {
   "cell_type": "markdown",
   "metadata": {},
   "source": [
    "**Как это работает?** Здесь мы использовали `copy.copy`, чтобы получить копию значений сгенерированного списка,\n",
    "поскольку наш алгоритм изменяет его, не создавая новый. Генерируем пять списков длиной от 5 до 7. Далее переворачиваем список и красиво оформляем вывод."
   ]
  },
  {
   "cell_type": "markdown",
   "metadata": {},
   "source": [
    "**Дополнение**. В качестве демострации работы генератора, я также хотел бы продемострировать работу функции [relu](https://en.wikipedia.org/wiki/Rectifier_(neural_networks)) (часто используется как функция активации в нейросетях)."
   ]
  },
  {
   "cell_type": "markdown",
   "metadata": {},
   "source": [
    "Ознакомившись с методов работы этой функции, напишем генератор:\n",
    "    "
   ]
  },
  {
   "cell_type": "code",
   "execution_count": 11,
   "metadata": {},
   "outputs": [],
   "source": [
    "def generate_relu(args):\n",
    "    for arg in args:\n",
    "        if arg > 0:\n",
    "            yield arg\n",
    "        else:\n",
    "            yield 0"
   ]
  },
  {
   "cell_type": "markdown",
   "metadata": {},
   "source": [
    "Теперь проверим генератор на одном списке(больше и не надо):"
   ]
  },
  {
   "cell_type": "code",
   "execution_count": 12,
   "metadata": {},
   "outputs": [
    {
     "name": "stdout",
     "output_type": "stream",
     "text": [
      "1\n",
      "0\n",
      "0\n",
      "2\n",
      "4\n",
      "0\n",
      "13\n"
     ]
    }
   ],
   "source": [
    "test = [1, -1, 0, 2, 4, -12, 13]\n",
    "\n",
    "my_gen = generate_relu(test)\n",
    "\n",
    "for i in my_gen:\n",
    "    print(i)"
   ]
  },
  {
   "cell_type": "markdown",
   "metadata": {},
   "source": [
    "ListComp vs Generator\n",
    "===================\n"
   ]
  },
  {
   "cell_type": "markdown",
   "metadata": {},
   "source": [
    "Последнее, что хочу здесь продемонстрировать, это скорость выбора объектов по какому-либо признаку в `listcomps` с помощью тернарной условной операции и генератора."
   ]
  },
  {
   "cell_type": "markdown",
   "metadata": {},
   "source": [
    "**Задача.** В функцию передается два параметра: N и k. Необходимо найти все числа от 1 до N включительно (N > 1), которые кратны (делятся нацело) k (k > 1). Используем такой код:"
   ]
  },
  {
   "cell_type": "code",
   "execution_count": 13,
   "metadata": {},
   "outputs": [],
   "source": [
    "def generate_list(N, k):\n",
    "    return [i for i in range(i, N + 1) if i % k == 0]\n",
    "\n",
    "def generator(N, k):\n",
    "    for i in range(i, N + 1):\n",
    "        if i % k == 0:\n",
    "            yield i\n",
    "                    "
   ]
  },
  {
   "cell_type": "code",
   "execution_count": 14,
   "metadata": {},
   "outputs": [
    {
     "name": "stdout",
     "output_type": "stream",
     "text": [
      "35 ms ± 2.14 ms per loop (mean ± std. dev. of 7 runs, 10 loops each)\n"
     ]
    }
   ],
   "source": [
    "%timeit generate_list(10**5, 93)"
   ]
  },
  {
   "cell_type": "code",
   "execution_count": 15,
   "metadata": {},
   "outputs": [
    {
     "name": "stdout",
     "output_type": "stream",
     "text": [
      "696 ns ± 62.6 ns per loop (mean ± std. dev. of 7 runs, 1000000 loops each)\n"
     ]
    }
   ],
   "source": [
    "%timeit generator(10**5, 93)"
   ]
  },
  {
   "cell_type": "markdown",
   "metadata": {},
   "source": [
    "Результаты меня удивили. Генераторы работают очень быстро, что говорит о возможном (иногда даже необходимом) их применении в ваших проектах. "
   ]
  },
  {
   "cell_type": "markdown",
   "metadata": {},
   "source": [
    "**Заключение.** Здесь вы лицезрели примеры использования генераторов в Python. В плане приёма аргументов они ничем не отличаются от функций, но имеют разный тип работы и относятся к другому классу. С помощью генераторов вы сможете получить необходимые вам значения, которые имеют некую закономерность. "
   ]
  },
  {
   "cell_type": "code",
   "execution_count": null,
   "metadata": {},
   "outputs": [],
   "source": []
  }
 ],
 "metadata": {
  "kernelspec": {
   "display_name": "Python 3",
   "language": "python",
   "name": "python3"
  },
  "language_info": {
   "codemirror_mode": {
    "name": "ipython",
    "version": 3
   },
   "file_extension": ".py",
   "mimetype": "text/x-python",
   "name": "python",
   "nbconvert_exporter": "python",
   "pygments_lexer": "ipython3",
   "version": "3.5.2"
  }
 },
 "nbformat": 4,
 "nbformat_minor": 2
}
